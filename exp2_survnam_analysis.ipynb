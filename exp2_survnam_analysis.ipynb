{
 "cells": [
  {
   "cell_type": "markdown",
   "metadata": {},
   "source": [
    "# SurvSHAP(t): Time-Dependent Explanations Of Machine Learning Survival Models\n",
    "### M. Krzyziński, M. Spytek, H. Baniecki, P. Biecek\n",
    "## Experiment 2: Comparison to SurvNAM"
   ]
  },
  {
   "cell_type": "markdown",
   "metadata": {},
   "source": [
    "#### Imports"
   ]
  },
  {
   "cell_type": "code",
   "execution_count": null,
   "metadata": {},
   "outputs": [],
   "source": [
    "import pandas as pd\n",
    "import numpy as np\n",
    "import pickle\n",
    "from sksurv.util import Surv"
   ]
  },
  {
   "cell_type": "markdown",
   "metadata": {},
   "source": [
    "#### Preparing data and models "
   ]
  },
  {
   "cell_type": "code",
   "execution_count": null,
   "metadata": {},
   "outputs": [],
   "source": [
    "dataset0_train = pd.read_csv(\"data/exp2_dataset0_train.csv\")\n",
    "dataset0_test = pd.read_csv(\"data/exp2_dataset0_test.csv\")\n",
    "X_train0 = dataset0_train.iloc[:, :5]\n",
    "X_test0 = dataset0_test.iloc[:, :5]\n",
    "y_train0 = Surv.from_dataframe(\"event\", \"time\", dataset0_train)\n",
    "y_test0 = Surv.from_dataframe(\"event\", \"time\", dataset0_test)"
   ]
  },
  {
   "cell_type": "code",
   "execution_count": null,
   "metadata": {},
   "outputs": [],
   "source": [
    "dataset1_train = pd.read_csv(\"data/exp2_dataset1_train.csv\")\n",
    "dataset1_test = pd.read_csv(\"data/exp2_dataset1_test.csv\")\n",
    "X_train1 = dataset1_train.iloc[:, :5]\n",
    "X_test1 = dataset1_test.iloc[:, :5]\n",
    "y_train1 = Surv.from_dataframe(\"event\", \"time\", dataset1_train)\n",
    "y_test1 = Surv.from_dataframe(\"event\", \"time\", dataset1_test)"
   ]
  },
  {
   "cell_type": "code",
   "execution_count": null,
   "metadata": {},
   "outputs": [],
   "source": [
    "from sksurv.linear_model import CoxPHSurvivalAnalysis\n",
    "cph_dataset0 = CoxPHSurvivalAnalysis()\n",
    "cph_dataset0.fit(X_train0, y_train0)"
   ]
  },
  {
   "cell_type": "code",
   "execution_count": null,
   "metadata": {},
   "outputs": [],
   "source": [
    "cph_dataset1 = CoxPHSurvivalAnalysis()\n",
    "cph_dataset1.fit(X_train1, y_train1)"
   ]
  },
  {
   "cell_type": "markdown",
   "metadata": {},
   "source": [
    "#### Reading explanations\n",
    "##### SurvNAM dataset0"
   ]
  },
  {
   "cell_type": "code",
   "execution_count": null,
   "metadata": {},
   "outputs": [],
   "source": [
    "survnam_dataset0_rsf = pd.read_csv(\"results/survnam_explanations_dataset0_rsf.csv\")\n",
    "survnam_dataset0_cph = pd.read_csv(\"results/survnam_explanations_dataset0_cph.csv\")"
   ]
  },
  {
   "cell_type": "markdown",
   "metadata": {},
   "source": [
    "##### SurvNAM dataset1 "
   ]
  },
  {
   "cell_type": "code",
   "execution_count": null,
   "metadata": {},
   "outputs": [],
   "source": [
    "survnam_dataset1_rsf = pd.read_csv(\"results/survnam_explanations_dataset1_rsf.csv\")\n",
    "survnam_dataset1_cph = pd.read_csv(\"results/survnam_explanations_dataset1_cph.csv\")"
   ]
  },
  {
   "cell_type": "markdown",
   "metadata": {},
   "source": [
    "#### Importance rankings"
   ]
  },
  {
   "cell_type": "code",
   "execution_count": null,
   "metadata": {},
   "outputs": [],
   "source": [
    "def get_orderings_and_ranks_survnam(explanations):\n",
    "    importance_orderings = []\n",
    "    importance_ranks = []\n",
    "    for i, row in explanations.iterrows():\n",
    "        importance_orderings.append(row.sort_values(key=lambda x: -abs(x)).index.to_list())\n",
    "        importance_ranks.append(np.abs(row).rank(ascending=False).to_list())\n",
    "    return pd.DataFrame(importance_orderings), pd.DataFrame(importance_ranks)\n",
    "\n",
    "from scipy.stats import weightedtau\n",
    "def mean_weighted_tau(ranks1, ranks2):\n",
    "    taus = [None] * 100\n",
    "    for i in range(100):\n",
    "        tau, _ = weightedtau(ranks1.iloc[i], ranks2.iloc[i])\n",
    "        if np.isnan(tau):\n",
    "            tau = 0\n",
    "        taus[i] = tau\n",
    "    return np.mean(taus)"
   ]
  },
  {
   "cell_type": "markdown",
   "metadata": {},
   "source": [
    "##### dataset0\n",
    "- $\\beta^T = [10^{−6}, 0.1, -0.15, 10^{−6}, 10^{−6}]$\n",
    "- ranking (by index): [0/3/4, 1, 2]"
   ]
  },
  {
   "cell_type": "code",
   "execution_count": null,
   "metadata": {},
   "outputs": [],
   "source": [
    "cph_dataset0.coef_"
   ]
  },
  {
   "cell_type": "markdown",
   "metadata": {},
   "source": [
    "##### CPH"
   ]
  },
  {
   "cell_type": "code",
   "execution_count": null,
   "metadata": {},
   "outputs": [],
   "source": [
    "dataset0_cph_survnam_orderings, dataset0_cph_survnam_ranks  = get_orderings_and_ranks_survnam(survnam_dataset0_cph)"
   ]
  },
  {
   "cell_type": "code",
   "execution_count": null,
   "metadata": {},
   "outputs": [],
   "source": [
    "print(\"The least important (0/3/4)\")\n",
    "print(dataset0_cph_survnam_orderings[4].value_counts())\n",
    "\n",
    "print(\"The second most important (1)\")\n",
    "print(dataset0_cph_survnam_orderings[1].value_counts())\n",
    "\n",
    "print(\"The most important (2)\")\n",
    "print(dataset0_cph_survnam_orderings[0].value_counts())"
   ]
  },
  {
   "cell_type": "code",
   "execution_count": null,
   "metadata": {},
   "outputs": [],
   "source": [
    "# GT CPH\n",
    "importance_ranks = []\n",
    "for i, row in X_test0.iterrows():\n",
    "    impact = row * cph_dataset0.coef_\n",
    "    importance_ranks.append(np.abs(impact).rank(ascending=False).to_list())\n",
    "dataset0_cph_true_ranks = pd.DataFrame(importance_ranks)"
   ]
  },
  {
   "cell_type": "code",
   "execution_count": null,
   "metadata": {},
   "outputs": [],
   "source": [
    "mean_weighted_tau(dataset0_cph_survnam_orderings, dataset0_cph_true_ranks)"
   ]
  },
  {
   "cell_type": "markdown",
   "metadata": {},
   "source": [
    "#### RSF "
   ]
  },
  {
   "cell_type": "code",
   "execution_count": null,
   "metadata": {},
   "outputs": [],
   "source": [
    "dataset0_rsf_survnam_orderings, dataset0_rsf_survnam_ranks  = get_orderings_and_ranks_survnam(survnam_dataset0_rsf)"
   ]
  },
  {
   "cell_type": "code",
   "execution_count": null,
   "metadata": {},
   "outputs": [],
   "source": [
    "print(\"The least important (0/3/4)\")\n",
    "print(dataset0_rsf_survnam_orderings[4].value_counts())\n",
    "\n",
    "print(\"The second most important (1)\")\n",
    "print(dataset0_rsf_survnam_orderings[1].value_counts())\n",
    "\n",
    "print(\"The most important (2)\")\n",
    "print(dataset0_rsf_survnam_orderings[0].value_counts())"
   ]
  },
  {
   "cell_type": "markdown",
   "metadata": {},
   "source": [
    "##### dataset1\n",
    "- $\\beta^T = [10^{−6}, −0.15, 10^{−6}, 10^{−6}, −0.1]$\n",
    "- ranking (by index): [0/2/3, 4, 1]"
   ]
  },
  {
   "cell_type": "code",
   "execution_count": null,
   "metadata": {},
   "outputs": [],
   "source": [
    "cph_dataset1.coef_"
   ]
  },
  {
   "cell_type": "markdown",
   "metadata": {},
   "source": [
    "#### CPH"
   ]
  },
  {
   "cell_type": "code",
   "execution_count": null,
   "metadata": {},
   "outputs": [],
   "source": [
    "dataset1_cph_survnam_orderings, dataset1_cph_survnam_ranks  = get_orderings_and_ranks_survnam(survnam_dataset1_cph)"
   ]
  },
  {
   "cell_type": "code",
   "execution_count": null,
   "metadata": {},
   "outputs": [],
   "source": [
    "print(\"The least important (0/2/3)\")\n",
    "print(dataset1_cph_survnam_orderings[4].value_counts())\n",
    "\n",
    "print(\"The second most important (4)\")\n",
    "print(dataset1_cph_survnam_orderings[1].value_counts())\n",
    "\n",
    "print(\"The most important (1)\")\n",
    "print(dataset1_cph_survnam_orderings[0].value_counts())"
   ]
  },
  {
   "cell_type": "code",
   "execution_count": null,
   "metadata": {},
   "outputs": [],
   "source": [
    "# GT CPH\n",
    "importance_ranks = [] \n",
    "for i, row in X_test1.iterrows():\n",
    "    impact = row * cph_dataset1.coef_\n",
    "    importance_ranks.append(np.abs(impact).rank(ascending=False).to_list())\n",
    "dataset1_cph_true_ranks = pd.DataFrame(importance_ranks)"
   ]
  },
  {
   "cell_type": "code",
   "execution_count": null,
   "metadata": {},
   "outputs": [],
   "source": [
    "mean_weighted_tau(dataset1_cph_survnam_orderings, dataset1_cph_true_ranks)"
   ]
  },
  {
   "cell_type": "markdown",
   "metadata": {},
   "source": [
    "#### RSF "
   ]
  },
  {
   "cell_type": "code",
   "execution_count": null,
   "metadata": {},
   "outputs": [],
   "source": [
    "dataset1_rsf_survnam_orderings, dataset1_rsf_survnam_ranks  = get_orderings_and_ranks_survnam(survnam_dataset1_rsf)"
   ]
  },
  {
   "cell_type": "code",
   "execution_count": null,
   "metadata": {},
   "outputs": [],
   "source": [
    "print(\"The least important (0/2/3)\")\n",
    "print(dataset1_rsf_survnam_orderings[4].value_counts())\n",
    "\n",
    "print(\"The second most important (4)\")\n",
    "print(dataset1_rsf_survnam_orderings[1].value_counts())\n",
    "\n",
    "print(\"The most important (1)\")\n",
    "print(dataset1_rsf_survnam_orderings[0].value_counts())"
   ]
  }
 ],
 "metadata": {
  "kernelspec": {
   "display_name": "Python 3.10.5 64-bit",
   "language": "python",
   "name": "python3"
  },
  "language_info": {
   "codemirror_mode": {
    "name": "ipython",
    "version": 3
   },
   "file_extension": ".py",
   "mimetype": "text/x-python",
   "name": "python",
   "nbconvert_exporter": "python",
   "pygments_lexer": "ipython3",
   "version": "3.10.5"
  },
  "orig_nbformat": 4,
  "vscode": {
   "interpreter": {
    "hash": "aee8b7b246df8f9039afb4144a1f6fd8d2ca17a180786b69acc140d282b71a49"
   }
  }
 },
 "nbformat": 4,
 "nbformat_minor": 2
}
